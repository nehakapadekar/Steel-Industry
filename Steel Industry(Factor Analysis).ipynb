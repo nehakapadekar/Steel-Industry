{
 "cells": [
  {
   "cell_type": "markdown",
   "id": "b741eb73-3d1f-4d0a-8181-5109f836dc7e",
   "metadata": {},
   "source": [
    "This Dataset captures various energy metrics, including usage, reactive power, CO2 emissions, and power factor values, over specific intervals to analyze patterns in power consumption and efficiency.\n",
    "\n",
    "OBJECTIVE:\n",
    "* TO identify factors affecting energy consumption and power quality through factor analysis, focusing on relationships among usage, reactive power, emissions and efficiency indicators"
   ]
  },
  {
   "cell_type": "code",
   "execution_count": 1,
   "id": "03ea6b1d-c820-44ee-a1ad-fda507145e66",
   "metadata": {},
   "outputs": [],
   "source": [
    "import pandas as pd\n",
    "from factor_analyzer import FactorAnalyzer"
   ]
  },
  {
   "cell_type": "code",
   "execution_count": 4,
   "id": "b7e2a476-ba99-4594-831d-9cca05acc641",
   "metadata": {},
   "outputs": [],
   "source": [
    "df=pd.read_csv(r\"steel_industry.csv\")"
   ]
  },
  {
   "cell_type": "code",
   "execution_count": 5,
   "id": "5298eef3-fb0c-43f6-b3d3-d2d24859ad18",
   "metadata": {},
   "outputs": [
    {
     "data": {
      "text/plain": [
       "Index(['date', 'Usage_kWh', 'Lagging_Current_Reactive.Power_kVarh',\n",
       "       'Leading_Current_Reactive_Power_kVarh', 'CO2(tCO2)',\n",
       "       'Lagging_Current_Power_Factor', 'Leading_Current_Power_Factor', 'NSM',\n",
       "       'Day_of_week'],\n",
       "      dtype='object')"
      ]
     },
     "execution_count": 5,
     "metadata": {},
     "output_type": "execute_result"
    }
   ],
   "source": [
    "df.columns"
   ]
  },
  {
   "cell_type": "code",
   "execution_count": 6,
   "id": "e837d92c-01a7-4863-85b5-438b232652cd",
   "metadata": {},
   "outputs": [
    {
     "data": {
      "text/html": [
       "<div>\n",
       "<style scoped>\n",
       "    .dataframe tbody tr th:only-of-type {\n",
       "        vertical-align: middle;\n",
       "    }\n",
       "\n",
       "    .dataframe tbody tr th {\n",
       "        vertical-align: top;\n",
       "    }\n",
       "\n",
       "    .dataframe thead th {\n",
       "        text-align: right;\n",
       "    }\n",
       "</style>\n",
       "<table border=\"1\" class=\"dataframe\">\n",
       "  <thead>\n",
       "    <tr style=\"text-align: right;\">\n",
       "      <th></th>\n",
       "      <th>date</th>\n",
       "      <th>Usage_kWh</th>\n",
       "      <th>Lagging_Current_Reactive.Power_kVarh</th>\n",
       "      <th>Leading_Current_Reactive_Power_kVarh</th>\n",
       "      <th>CO2(tCO2)</th>\n",
       "      <th>Lagging_Current_Power_Factor</th>\n",
       "      <th>Leading_Current_Power_Factor</th>\n",
       "      <th>NSM</th>\n",
       "      <th>Day_of_week</th>\n",
       "    </tr>\n",
       "  </thead>\n",
       "  <tbody>\n",
       "    <tr>\n",
       "      <th>0</th>\n",
       "      <td>1/1/2018 0:15</td>\n",
       "      <td>3.17</td>\n",
       "      <td>2.95</td>\n",
       "      <td>0.0</td>\n",
       "      <td>0.0</td>\n",
       "      <td>73.21</td>\n",
       "      <td>100.0</td>\n",
       "      <td>900</td>\n",
       "      <td>1</td>\n",
       "    </tr>\n",
       "    <tr>\n",
       "      <th>1</th>\n",
       "      <td>1/1/2018 0:30</td>\n",
       "      <td>4.00</td>\n",
       "      <td>4.46</td>\n",
       "      <td>0.0</td>\n",
       "      <td>0.0</td>\n",
       "      <td>66.77</td>\n",
       "      <td>100.0</td>\n",
       "      <td>1800</td>\n",
       "      <td>1</td>\n",
       "    </tr>\n",
       "    <tr>\n",
       "      <th>2</th>\n",
       "      <td>1/1/2018 0:45</td>\n",
       "      <td>3.24</td>\n",
       "      <td>3.28</td>\n",
       "      <td>0.0</td>\n",
       "      <td>0.0</td>\n",
       "      <td>70.28</td>\n",
       "      <td>100.0</td>\n",
       "      <td>2700</td>\n",
       "      <td>1</td>\n",
       "    </tr>\n",
       "    <tr>\n",
       "      <th>3</th>\n",
       "      <td>1/1/2018 1:00</td>\n",
       "      <td>3.31</td>\n",
       "      <td>3.56</td>\n",
       "      <td>0.0</td>\n",
       "      <td>0.0</td>\n",
       "      <td>68.09</td>\n",
       "      <td>100.0</td>\n",
       "      <td>3600</td>\n",
       "      <td>1</td>\n",
       "    </tr>\n",
       "    <tr>\n",
       "      <th>4</th>\n",
       "      <td>1/1/2018 1:15</td>\n",
       "      <td>3.82</td>\n",
       "      <td>4.50</td>\n",
       "      <td>0.0</td>\n",
       "      <td>0.0</td>\n",
       "      <td>64.72</td>\n",
       "      <td>100.0</td>\n",
       "      <td>4500</td>\n",
       "      <td>1</td>\n",
       "    </tr>\n",
       "  </tbody>\n",
       "</table>\n",
       "</div>"
      ],
      "text/plain": [
       "            date  Usage_kWh  Lagging_Current_Reactive.Power_kVarh  \\\n",
       "0  1/1/2018 0:15       3.17                                  2.95   \n",
       "1  1/1/2018 0:30       4.00                                  4.46   \n",
       "2  1/1/2018 0:45       3.24                                  3.28   \n",
       "3  1/1/2018 1:00       3.31                                  3.56   \n",
       "4  1/1/2018 1:15       3.82                                  4.50   \n",
       "\n",
       "   Leading_Current_Reactive_Power_kVarh  CO2(tCO2)  \\\n",
       "0                                   0.0        0.0   \n",
       "1                                   0.0        0.0   \n",
       "2                                   0.0        0.0   \n",
       "3                                   0.0        0.0   \n",
       "4                                   0.0        0.0   \n",
       "\n",
       "   Lagging_Current_Power_Factor  Leading_Current_Power_Factor   NSM  \\\n",
       "0                         73.21                         100.0   900   \n",
       "1                         66.77                         100.0  1800   \n",
       "2                         70.28                         100.0  2700   \n",
       "3                         68.09                         100.0  3600   \n",
       "4                         64.72                         100.0  4500   \n",
       "\n",
       "   Day_of_week  \n",
       "0            1  \n",
       "1            1  \n",
       "2            1  \n",
       "3            1  \n",
       "4            1  "
      ]
     },
     "execution_count": 6,
     "metadata": {},
     "output_type": "execute_result"
    }
   ],
   "source": [
    "df.head()"
   ]
  },
  {
   "cell_type": "code",
   "execution_count": 7,
   "id": "9c34a157-1ed0-4841-84e7-2dc63ceb17f2",
   "metadata": {},
   "outputs": [],
   "source": [
    "df.drop('date',axis=1,inplace=True)"
   ]
  },
  {
   "cell_type": "code",
   "execution_count": 11,
   "id": "a54fe744-3cf7-41ff-9b06-c1a416e8c222",
   "metadata": {},
   "outputs": [
    {
     "data": {
      "text/plain": [
       "Usage_kWh                               0\n",
       "Lagging_Current_Reactive.Power_kVarh    0\n",
       "Leading_Current_Reactive_Power_kVarh    0\n",
       "CO2(tCO2)                               0\n",
       "Lagging_Current_Power_Factor            0\n",
       "Leading_Current_Power_Factor            0\n",
       "NSM                                     0\n",
       "Day_of_week                             0\n",
       "dtype: int64"
      ]
     },
     "execution_count": 11,
     "metadata": {},
     "output_type": "execute_result"
    }
   ],
   "source": [
    "df.isnull().sum()"
   ]
  },
  {
   "cell_type": "code",
   "execution_count": 12,
   "id": "2edba780-69d6-434a-af0c-6b43dee98db7",
   "metadata": {},
   "outputs": [
    {
     "name": "stdout",
     "output_type": "stream",
     "text": [
      "<class 'pandas.core.frame.DataFrame'>\n",
      "RangeIndex: 35040 entries, 0 to 35039\n",
      "Data columns (total 8 columns):\n",
      " #   Column                                Non-Null Count  Dtype  \n",
      "---  ------                                --------------  -----  \n",
      " 0   Usage_kWh                             35040 non-null  float64\n",
      " 1   Lagging_Current_Reactive.Power_kVarh  35040 non-null  float64\n",
      " 2   Leading_Current_Reactive_Power_kVarh  35040 non-null  float64\n",
      " 3   CO2(tCO2)                             35040 non-null  float64\n",
      " 4   Lagging_Current_Power_Factor          35040 non-null  float64\n",
      " 5   Leading_Current_Power_Factor          35040 non-null  float64\n",
      " 6   NSM                                   35040 non-null  int64  \n",
      " 7   Day_of_week                           35040 non-null  int64  \n",
      "dtypes: float64(6), int64(2)\n",
      "memory usage: 2.1 MB\n"
     ]
    }
   ],
   "source": [
    "df.info()"
   ]
  },
  {
   "cell_type": "code",
   "execution_count": 13,
   "id": "60b23897-0b6c-4e79-9f0b-718dab3b3123",
   "metadata": {},
   "outputs": [
    {
     "data": {
      "text/plain": [
       "<Axes: >"
      ]
     },
     "execution_count": 13,
     "metadata": {},
     "output_type": "execute_result"
    },
    {
     "data": {
      "image/png": "[encoded data removed]",
      "text/plain": [
       "<Figure size 640x480 with 1 Axes>"
      ]
     },
     "metadata": {},
     "output_type": "display_data"
    }
   ],
   "source": [
    "df.boxplot(column=['Usage_kWh','Lagging_Current_Reactive.Power_kVarh','Leading_Current_Reactive_Power_kVarh','CO2(tCO2)','Lagging_Current_Power_Factor','Leading_Current_Power_Factor','NSM','Day_of_week'])"
   ]
  },
  {
   "cell_type": "markdown",
   "id": "7df8fc55-48d1-4eca-bfc7-39eda726807d",
   "metadata": {},
   "source": [
    "# Bartlett Test\n",
    "* Ho: Correlation matrix is an identity matrix\n",
    "* H1: Correlation matrix is not an identity matrix"
   ]
  },
  {
   "cell_type": "code",
   "execution_count": 14,
   "id": "0d93e94a-fab2-407e-b4f5-08f47bdb78ca",
   "metadata": {},
   "outputs": [
    {
     "name": "stderr",
     "output_type": "stream",
     "text": [
      "C:\\Users\\User\\AppData\\Local\\Temp\\ipykernel_1628\\4032369847.py:2: FutureWarning: Styler.applymap has been deprecated. Use Styler.map instead.\n",
      "  Correlation.style.applymap(lambda x: 'background-color : orange' if x >=0.7 else '')\n"
     ]
    },
    {
     "data": {
      "text/html": [
       "<style type=\"text/css\">\n",
       "#T_6b229_row0_col0, #T_6b229_row0_col1, #T_6b229_row0_col3, #T_6b229_row1_col0, #T_6b229_row1_col1, #T_6b229_row1_col3, #T_6b229_row2_col2, #T_6b229_row3_col0, #T_6b229_row3_col1, #T_6b229_row3_col3, #T_6b229_row4_col4, #T_6b229_row5_col5, #T_6b229_row6_col6, #T_6b229_row7_col7 {\n",
       "  background-color: orange;\n",
       "}\n",
       "</style>\n",
       "<table id=\"T_6b229\">\n",
       "  <thead>\n",
       "    <tr>\n",
       "      <th class=\"blank level0\" >&nbsp;</th>\n",
       "      <th id=\"T_6b229_level0_col0\" class=\"col_heading level0 col0\" >Usage_kWh</th>\n",
       "      <th id=\"T_6b229_level0_col1\" class=\"col_heading level0 col1\" >Lagging_Current_Reactive.Power_kVarh</th>\n",
       "      <th id=\"T_6b229_level0_col2\" class=\"col_heading level0 col2\" >Leading_Current_Reactive_Power_kVarh</th>\n",
       "      <th id=\"T_6b229_level0_col3\" class=\"col_heading level0 col3\" >CO2(tCO2)</th>\n",
       "      <th id=\"T_6b229_level0_col4\" class=\"col_heading level0 col4\" >Lagging_Current_Power_Factor</th>\n",
       "      <th id=\"T_6b229_level0_col5\" class=\"col_heading level0 col5\" >Leading_Current_Power_Factor</th>\n",
       "      <th id=\"T_6b229_level0_col6\" class=\"col_heading level0 col6\" >NSM</th>\n",
       "      <th id=\"T_6b229_level0_col7\" class=\"col_heading level0 col7\" >Day_of_week</th>\n",
       "    </tr>\n",
       "  </thead>\n",
       "  <tbody>\n",
       "    <tr>\n",
       "      <th id=\"T_6b229_level0_row0\" class=\"row_heading level0 row0\" >Usage_kWh</th>\n",
       "      <td id=\"T_6b229_row0_col0\" class=\"data row0 col0\" >1.000000</td>\n",
       "      <td id=\"T_6b229_row0_col1\" class=\"data row0 col1\" >0.896150</td>\n",
       "      <td id=\"T_6b229_row0_col2\" class=\"data row0 col2\" >-0.324922</td>\n",
       "      <td id=\"T_6b229_row0_col3\" class=\"data row0 col3\" >0.988180</td>\n",
       "      <td id=\"T_6b229_row0_col4\" class=\"data row0 col4\" >0.385960</td>\n",
       "      <td id=\"T_6b229_row0_col5\" class=\"data row0 col5\" >0.353566</td>\n",
       "      <td id=\"T_6b229_row0_col6\" class=\"data row0 col6\" >0.234610</td>\n",
       "      <td id=\"T_6b229_row0_col7\" class=\"data row0 col7\" >-0.240705</td>\n",
       "    </tr>\n",
       "    <tr>\n",
       "      <th id=\"T_6b229_level0_row1\" class=\"row_heading level0 row1\" >Lagging_Current_Reactive.Power_kVarh</th>\n",
       "      <td id=\"T_6b229_row1_col0\" class=\"data row1 col0\" >0.896150</td>\n",
       "      <td id=\"T_6b229_row1_col1\" class=\"data row1 col1\" >1.000000</td>\n",
       "      <td id=\"T_6b229_row1_col2\" class=\"data row1 col2\" >-0.405142</td>\n",
       "      <td id=\"T_6b229_row1_col3\" class=\"data row1 col3\" >0.886948</td>\n",
       "      <td id=\"T_6b229_row1_col4\" class=\"data row1 col4\" >0.144534</td>\n",
       "      <td id=\"T_6b229_row1_col5\" class=\"data row1 col5\" >0.407716</td>\n",
       "      <td id=\"T_6b229_row1_col6\" class=\"data row1 col6\" >0.082662</td>\n",
       "      <td id=\"T_6b229_row1_col7\" class=\"data row1 col7\" >-0.256227</td>\n",
       "    </tr>\n",
       "    <tr>\n",
       "      <th id=\"T_6b229_level0_row2\" class=\"row_heading level0 row2\" >Leading_Current_Reactive_Power_kVarh</th>\n",
       "      <td id=\"T_6b229_row2_col0\" class=\"data row2 col0\" >-0.324922</td>\n",
       "      <td id=\"T_6b229_row2_col1\" class=\"data row2 col1\" >-0.405142</td>\n",
       "      <td id=\"T_6b229_row2_col2\" class=\"data row2 col2\" >1.000000</td>\n",
       "      <td id=\"T_6b229_row2_col3\" class=\"data row2 col3\" >-0.332777</td>\n",
       "      <td id=\"T_6b229_row2_col4\" class=\"data row2 col4\" >0.526770</td>\n",
       "      <td id=\"T_6b229_row2_col5\" class=\"data row2 col5\" >-0.944039</td>\n",
       "      <td id=\"T_6b229_row2_col6\" class=\"data row2 col6\" >0.371605</td>\n",
       "      <td id=\"T_6b229_row2_col7\" class=\"data row2 col7\" >0.212922</td>\n",
       "    </tr>\n",
       "    <tr>\n",
       "      <th id=\"T_6b229_level0_row3\" class=\"row_heading level0 row3\" >CO2(tCO2)</th>\n",
       "      <td id=\"T_6b229_row3_col0\" class=\"data row3 col0\" >0.988180</td>\n",
       "      <td id=\"T_6b229_row3_col1\" class=\"data row3 col1\" >0.886948</td>\n",
       "      <td id=\"T_6b229_row3_col2\" class=\"data row3 col2\" >-0.332777</td>\n",
       "      <td id=\"T_6b229_row3_col3\" class=\"data row3 col3\" >1.000000</td>\n",
       "      <td id=\"T_6b229_row3_col4\" class=\"data row3 col4\" >0.379605</td>\n",
       "      <td id=\"T_6b229_row3_col5\" class=\"data row3 col5\" >0.360019</td>\n",
       "      <td id=\"T_6b229_row3_col6\" class=\"data row3 col6\" >0.231726</td>\n",
       "      <td id=\"T_6b229_row3_col7\" class=\"data row3 col7\" >-0.235298</td>\n",
       "    </tr>\n",
       "    <tr>\n",
       "      <th id=\"T_6b229_level0_row4\" class=\"row_heading level0 row4\" >Lagging_Current_Power_Factor</th>\n",
       "      <td id=\"T_6b229_row4_col0\" class=\"data row4 col0\" >0.385960</td>\n",
       "      <td id=\"T_6b229_row4_col1\" class=\"data row4 col1\" >0.144534</td>\n",
       "      <td id=\"T_6b229_row4_col2\" class=\"data row4 col2\" >0.526770</td>\n",
       "      <td id=\"T_6b229_row4_col3\" class=\"data row4 col3\" >0.379605</td>\n",
       "      <td id=\"T_6b229_row4_col4\" class=\"data row4 col4\" >1.000000</td>\n",
       "      <td id=\"T_6b229_row4_col5\" class=\"data row4 col5\" >-0.519967</td>\n",
       "      <td id=\"T_6b229_row4_col6\" class=\"data row4 col6\" >0.565270</td>\n",
       "      <td id=\"T_6b229_row4_col7\" class=\"data row4 col7\" >0.042465</td>\n",
       "    </tr>\n",
       "    <tr>\n",
       "      <th id=\"T_6b229_level0_row5\" class=\"row_heading level0 row5\" >Leading_Current_Power_Factor</th>\n",
       "      <td id=\"T_6b229_row5_col0\" class=\"data row5 col0\" >0.353566</td>\n",
       "      <td id=\"T_6b229_row5_col1\" class=\"data row5 col1\" >0.407716</td>\n",
       "      <td id=\"T_6b229_row5_col2\" class=\"data row5 col2\" >-0.944039</td>\n",
       "      <td id=\"T_6b229_row5_col3\" class=\"data row5 col3\" >0.360019</td>\n",
       "      <td id=\"T_6b229_row5_col4\" class=\"data row5 col4\" >-0.519967</td>\n",
       "      <td id=\"T_6b229_row5_col5\" class=\"data row5 col5\" >1.000000</td>\n",
       "      <td id=\"T_6b229_row5_col6\" class=\"data row5 col6\" >-0.360563</td>\n",
       "      <td id=\"T_6b229_row5_col7\" class=\"data row5 col7\" >-0.257677</td>\n",
       "    </tr>\n",
       "    <tr>\n",
       "      <th id=\"T_6b229_level0_row6\" class=\"row_heading level0 row6\" >NSM</th>\n",
       "      <td id=\"T_6b229_row6_col0\" class=\"data row6 col0\" >0.234610</td>\n",
       "      <td id=\"T_6b229_row6_col1\" class=\"data row6 col1\" >0.082662</td>\n",
       "      <td id=\"T_6b229_row6_col2\" class=\"data row6 col2\" >0.371605</td>\n",
       "      <td id=\"T_6b229_row6_col3\" class=\"data row6 col3\" >0.231726</td>\n",
       "      <td id=\"T_6b229_row6_col4\" class=\"data row6 col4\" >0.565270</td>\n",
       "      <td id=\"T_6b229_row6_col5\" class=\"data row6 col5\" >-0.360563</td>\n",
       "      <td id=\"T_6b229_row6_col6\" class=\"data row6 col6\" >1.000000</td>\n",
       "      <td id=\"T_6b229_row6_col7\" class=\"data row6 col7\" >-0.000000</td>\n",
       "    </tr>\n",
       "    <tr>\n",
       "      <th id=\"T_6b229_level0_row7\" class=\"row_heading level0 row7\" >Day_of_week</th>\n",
       "      <td id=\"T_6b229_row7_col0\" class=\"data row7 col0\" >-0.240705</td>\n",
       "      <td id=\"T_6b229_row7_col1\" class=\"data row7 col1\" >-0.256227</td>\n",
       "      <td id=\"T_6b229_row7_col2\" class=\"data row7 col2\" >0.212922</td>\n",
       "      <td id=\"T_6b229_row7_col3\" class=\"data row7 col3\" >-0.235298</td>\n",
       "      <td id=\"T_6b229_row7_col4\" class=\"data row7 col4\" >0.042465</td>\n",
       "      <td id=\"T_6b229_row7_col5\" class=\"data row7 col5\" >-0.257677</td>\n",
       "      <td id=\"T_6b229_row7_col6\" class=\"data row7 col6\" >-0.000000</td>\n",
       "      <td id=\"T_6b229_row7_col7\" class=\"data row7 col7\" >1.000000</td>\n",
       "    </tr>\n",
       "  </tbody>\n",
       "</table>\n"
      ],
      "text/plain": [
       "<pandas.io.formats.style.Styler at 0x26ec07b0050>"
      ]
     },
     "execution_count": 14,
     "metadata": {},
     "output_type": "execute_result"
    }
   ],
   "source": [
    "Correlation = df.corr()\n",
    "Correlation.style.applymap(lambda x: 'background-color : orange' if x >=0.7 else '')"
   ]
  },
  {
   "cell_type": "code",
   "execution_count": 15,
   "id": "c6d3623d-e4c4-4d86-8c4d-46852049efe3",
   "metadata": {},
   "outputs": [
    {
     "data": {
      "text/plain": [
       "(np.float64(339879.14576284995), np.float64(0.0))"
      ]
     },
     "execution_count": 15,
     "metadata": {},
     "output_type": "execute_result"
    }
   ],
   "source": [
    "from factor_analyzer.factor_analyzer import calculate_bartlett_sphericity\n",
    "chi_square_value,p_value=calculate_bartlett_sphericity(df)\n",
    "chi_square_value, p_value"
   ]
  },
  {
   "cell_type": "markdown",
   "id": "c909da90-574a-48be-bbdb-e13f05b13320",
   "metadata": {},
   "source": [
    "* We reject Ho,\n",
    "* Conclude: Correlation matrix is not an identity matrix"
   ]
  },
  {
   "cell_type": "markdown",
   "id": "c39390e5-8abf-4f33-aab8-c292418962a1",
   "metadata": {},
   "source": [
    "# KMO Test"
   ]
  },
  {
   "cell_type": "code",
   "execution_count": 16,
   "id": "0ce516e7-7888-4882-a0af-0b8581fa987a",
   "metadata": {},
   "outputs": [
    {
     "data": {
      "text/plain": [
       "np.float64(0.7301040697894404)"
      ]
     },
     "execution_count": 16,
     "metadata": {},
     "output_type": "execute_result"
    }
   ],
   "source": [
    "from factor_analyzer.factor_analyzer import calculate_kmo\n",
    "kmo_all,kmo_model=calculate_kmo(df)\n",
    "kmo_model"
   ]
  },
  {
   "cell_type": "markdown",
   "id": "7bfe04e2-7c0e-4441-8872-e6b9db97ec1a",
   "metadata": {},
   "source": [
    "Overall KMO for our data is 0.73, which is good. Hence we can proceed with factor analysis"
   ]
  },
  {
   "cell_type": "markdown",
   "id": "8dba8fdc-870c-4930-9ee0-f140e57769f4",
   "metadata": {},
   "source": [
    "# Choosing the number of factors"
   ]
  },
  {
   "cell_type": "code",
   "execution_count": 18,
   "id": "2edee94d-2925-4d18-972e-1aa64e846356",
   "metadata": {},
   "outputs": [
    {
     "data": {
      "text/plain": [
       "array([3.51047047, 2.58722088, 0.88852794, 0.57022128, 0.3028352 ,\n",
       "       0.081915  , 0.04752381, 0.01128542])"
      ]
     },
     "execution_count": 18,
     "metadata": {},
     "output_type": "execute_result"
    }
   ],
   "source": [
    "fa = FactorAnalyzer(rotation='varimax',method=\"principal\")\n",
    "fa.fit(df)\n",
    "\n",
    "eigen_values, vectors = fa.get_eigenvalues()\n",
    "eigen_values"
   ]
  },
  {
   "cell_type": "code",
   "execution_count": 19,
   "id": "e9753f8a-3474-40ca-9c58-16aa8a18c431",
   "metadata": {},
   "outputs": [
    {
     "data": {
      "text/html": [
       "<div>\n",
       "<style scoped>\n",
       "    .dataframe tbody tr th:only-of-type {\n",
       "        vertical-align: middle;\n",
       "    }\n",
       "\n",
       "    .dataframe tbody tr th {\n",
       "        vertical-align: top;\n",
       "    }\n",
       "\n",
       "    .dataframe thead th {\n",
       "        text-align: right;\n",
       "    }\n",
       "</style>\n",
       "<table border=\"1\" class=\"dataframe\">\n",
       "  <thead>\n",
       "    <tr style=\"text-align: right;\">\n",
       "      <th></th>\n",
       "      <th>Eigen_Values</th>\n",
       "      <th>Factor</th>\n",
       "    </tr>\n",
       "  </thead>\n",
       "  <tbody>\n",
       "    <tr>\n",
       "      <th>0</th>\n",
       "      <td>3.510470</td>\n",
       "      <td>1</td>\n",
       "    </tr>\n",
       "    <tr>\n",
       "      <th>1</th>\n",
       "      <td>2.587221</td>\n",
       "      <td>2</td>\n",
       "    </tr>\n",
       "    <tr>\n",
       "      <th>2</th>\n",
       "      <td>0.888528</td>\n",
       "      <td>3</td>\n",
       "    </tr>\n",
       "    <tr>\n",
       "      <th>3</th>\n",
       "      <td>0.570221</td>\n",
       "      <td>4</td>\n",
       "    </tr>\n",
       "    <tr>\n",
       "      <th>4</th>\n",
       "      <td>0.302835</td>\n",
       "      <td>5</td>\n",
       "    </tr>\n",
       "  </tbody>\n",
       "</table>\n",
       "</div>"
      ],
      "text/plain": [
       "   Eigen_Values  Factor\n",
       "0      3.510470       1\n",
       "1      2.587221       2\n",
       "2      0.888528       3\n",
       "3      0.570221       4\n",
       "4      0.302835       5"
      ]
     },
     "execution_count": 19,
     "metadata": {},
     "output_type": "execute_result"
    }
   ],
   "source": [
    "dd=pd.DataFrame(eigen_values,columns=[\"Eigen_Values\"])\n",
    "dd['Factor']=[1,2,3,4,5,6,7,8]\n",
    "dd.head()"
   ]
  },
  {
   "cell_type": "code",
   "execution_count": 21,
   "id": "fde24bf9-71fd-41e0-9d71-c426e7d02360",
   "metadata": {},
   "outputs": [
    {
     "data": {
      "image/png": "[encoded data removed]",
      "text/plain": [
       "<Figure size 640x480 with 1 Axes>"
      ]
     },
     "metadata": {},
     "output_type": "display_data"
    }
   ],
   "source": [
    "import matplotlib.pyplot as plt\n",
    "plt.plot('Factor','Eigen_Values', data=dd, linestyle='-', marker='o')\n",
    "plt.xlabel(\"Number of factor\")\n",
    "plt.ylabel(\"Eigen Values\")\n",
    "plt.title(\"Scree Plot\")\n",
    "plt.show()"
   ]
  },
  {
   "cell_type": "markdown",
   "id": "860dae9a-690b-4ce2-9b2b-fc9cd93e0466",
   "metadata": {},
   "source": [
    "Here, you can see only for 2-factors eigenvalues are greater than one. It means we need to choose only 2 factors"
   ]
  },
  {
   "cell_type": "markdown",
   "id": "2ee86634-fe61-4d43-8b69-f96a3231fbf3",
   "metadata": {},
   "source": [
    "# Performing Factor Analysis"
   ]
  },
  {
   "cell_type": "code",
   "execution_count": 22,
   "id": "795a5b75-08c7-4cef-8231-8158b9d7ee6a",
   "metadata": {},
   "outputs": [],
   "source": [
    "pf=FactorAnalyzer(n_factors=2,rotation=\"varimax\",method=\"principal\")"
   ]
  },
  {
   "cell_type": "code",
   "execution_count": 23,
   "id": "09cd43b9-bc03-478e-94ad-b678c9a525f7",
   "metadata": {},
   "outputs": [],
   "source": [
    "model=pf.fit(df)"
   ]
  },
  {
   "cell_type": "markdown",
   "id": "329f3381-fdcc-4a5c-a532-422d7382281f",
   "metadata": {},
   "source": [
    "# Correlation Matrix"
   ]
  },
  {
   "cell_type": "code",
   "execution_count": 24,
   "id": "a27060e3-5e83-4e55-a42b-1adf5ebd1fec",
   "metadata": {},
   "outputs": [
    {
     "data": {
      "text/plain": [
       "['Usage_kWh',\n",
       " 'Lagging_Current_Reactive.Power_kVarh',\n",
       " 'Leading_Current_Reactive_Power_kVarh',\n",
       " 'CO2(tCO2)',\n",
       " 'Lagging_Current_Power_Factor',\n",
       " 'Leading_Current_Power_Factor',\n",
       " 'NSM',\n",
       " 'Day_of_week']"
      ]
     },
     "execution_count": 24,
     "metadata": {},
     "output_type": "execute_result"
    }
   ],
   "source": [
    "data_loading=df.columns.to_list()\n",
    "data_loading"
   ]
  },
  {
   "cell_type": "code",
   "execution_count": 25,
   "id": "3dfd825f-3573-4391-a008-60b60daacf06",
   "metadata": {},
   "outputs": [
    {
     "name": "stderr",
     "output_type": "stream",
     "text": [
      "C:\\Users\\User\\AppData\\Local\\Temp\\ipykernel_1628\\2013723047.py:2: FutureWarning: Styler.applymap has been deprecated. Use Styler.map instead.\n",
      "  Correlation.style.applymap(lambda x: 'background-color : yellow' if x >= 0.7 else '')\n"
     ]
    },
    {
     "data": {
      "text/html": [
       "<style type=\"text/css\">\n",
       "#T_e016a_row0_col0, #T_e016a_row0_col1, #T_e016a_row0_col3, #T_e016a_row1_col0, #T_e016a_row1_col1, #T_e016a_row1_col3, #T_e016a_row2_col2, #T_e016a_row3_col0, #T_e016a_row3_col1, #T_e016a_row3_col3, #T_e016a_row4_col4, #T_e016a_row5_col5, #T_e016a_row6_col6, #T_e016a_row7_col7 {\n",
       "  background-color: yellow;\n",
       "}\n",
       "</style>\n",
       "<table id=\"T_e016a\">\n",
       "  <thead>\n",
       "    <tr>\n",
       "      <th class=\"blank level0\" >&nbsp;</th>\n",
       "      <th id=\"T_e016a_level0_col0\" class=\"col_heading level0 col0\" >Usage_kWh</th>\n",
       "      <th id=\"T_e016a_level0_col1\" class=\"col_heading level0 col1\" >Lagging_Current_Reactive.Power_kVarh</th>\n",
       "      <th id=\"T_e016a_level0_col2\" class=\"col_heading level0 col2\" >Leading_Current_Reactive_Power_kVarh</th>\n",
       "      <th id=\"T_e016a_level0_col3\" class=\"col_heading level0 col3\" >CO2(tCO2)</th>\n",
       "      <th id=\"T_e016a_level0_col4\" class=\"col_heading level0 col4\" >Lagging_Current_Power_Factor</th>\n",
       "      <th id=\"T_e016a_level0_col5\" class=\"col_heading level0 col5\" >Leading_Current_Power_Factor</th>\n",
       "      <th id=\"T_e016a_level0_col6\" class=\"col_heading level0 col6\" >NSM</th>\n",
       "      <th id=\"T_e016a_level0_col7\" class=\"col_heading level0 col7\" >Day_of_week</th>\n",
       "    </tr>\n",
       "  </thead>\n",
       "  <tbody>\n",
       "    <tr>\n",
       "      <th id=\"T_e016a_level0_row0\" class=\"row_heading level0 row0\" >Usage_kWh</th>\n",
       "      <td id=\"T_e016a_row0_col0\" class=\"data row0 col0\" >1.000000</td>\n",
       "      <td id=\"T_e016a_row0_col1\" class=\"data row0 col1\" >0.896150</td>\n",
       "      <td id=\"T_e016a_row0_col2\" class=\"data row0 col2\" >-0.324922</td>\n",
       "      <td id=\"T_e016a_row0_col3\" class=\"data row0 col3\" >0.988180</td>\n",
       "      <td id=\"T_e016a_row0_col4\" class=\"data row0 col4\" >0.385960</td>\n",
       "      <td id=\"T_e016a_row0_col5\" class=\"data row0 col5\" >0.353566</td>\n",
       "      <td id=\"T_e016a_row0_col6\" class=\"data row0 col6\" >0.234610</td>\n",
       "      <td id=\"T_e016a_row0_col7\" class=\"data row0 col7\" >-0.240705</td>\n",
       "    </tr>\n",
       "    <tr>\n",
       "      <th id=\"T_e016a_level0_row1\" class=\"row_heading level0 row1\" >Lagging_Current_Reactive.Power_kVarh</th>\n",
       "      <td id=\"T_e016a_row1_col0\" class=\"data row1 col0\" >0.896150</td>\n",
       "      <td id=\"T_e016a_row1_col1\" class=\"data row1 col1\" >1.000000</td>\n",
       "      <td id=\"T_e016a_row1_col2\" class=\"data row1 col2\" >-0.405142</td>\n",
       "      <td id=\"T_e016a_row1_col3\" class=\"data row1 col3\" >0.886948</td>\n",
       "      <td id=\"T_e016a_row1_col4\" class=\"data row1 col4\" >0.144534</td>\n",
       "      <td id=\"T_e016a_row1_col5\" class=\"data row1 col5\" >0.407716</td>\n",
       "      <td id=\"T_e016a_row1_col6\" class=\"data row1 col6\" >0.082662</td>\n",
       "      <td id=\"T_e016a_row1_col7\" class=\"data row1 col7\" >-0.256227</td>\n",
       "    </tr>\n",
       "    <tr>\n",
       "      <th id=\"T_e016a_level0_row2\" class=\"row_heading level0 row2\" >Leading_Current_Reactive_Power_kVarh</th>\n",
       "      <td id=\"T_e016a_row2_col0\" class=\"data row2 col0\" >-0.324922</td>\n",
       "      <td id=\"T_e016a_row2_col1\" class=\"data row2 col1\" >-0.405142</td>\n",
       "      <td id=\"T_e016a_row2_col2\" class=\"data row2 col2\" >1.000000</td>\n",
       "      <td id=\"T_e016a_row2_col3\" class=\"data row2 col3\" >-0.332777</td>\n",
       "      <td id=\"T_e016a_row2_col4\" class=\"data row2 col4\" >0.526770</td>\n",
       "      <td id=\"T_e016a_row2_col5\" class=\"data row2 col5\" >-0.944039</td>\n",
       "      <td id=\"T_e016a_row2_col6\" class=\"data row2 col6\" >0.371605</td>\n",
       "      <td id=\"T_e016a_row2_col7\" class=\"data row2 col7\" >0.212922</td>\n",
       "    </tr>\n",
       "    <tr>\n",
       "      <th id=\"T_e016a_level0_row3\" class=\"row_heading level0 row3\" >CO2(tCO2)</th>\n",
       "      <td id=\"T_e016a_row3_col0\" class=\"data row3 col0\" >0.988180</td>\n",
       "      <td id=\"T_e016a_row3_col1\" class=\"data row3 col1\" >0.886948</td>\n",
       "      <td id=\"T_e016a_row3_col2\" class=\"data row3 col2\" >-0.332777</td>\n",
       "      <td id=\"T_e016a_row3_col3\" class=\"data row3 col3\" >1.000000</td>\n",
       "      <td id=\"T_e016a_row3_col4\" class=\"data row3 col4\" >0.379605</td>\n",
       "      <td id=\"T_e016a_row3_col5\" class=\"data row3 col5\" >0.360019</td>\n",
       "      <td id=\"T_e016a_row3_col6\" class=\"data row3 col6\" >0.231726</td>\n",
       "      <td id=\"T_e016a_row3_col7\" class=\"data row3 col7\" >-0.235298</td>\n",
       "    </tr>\n",
       "    <tr>\n",
       "      <th id=\"T_e016a_level0_row4\" class=\"row_heading level0 row4\" >Lagging_Current_Power_Factor</th>\n",
       "      <td id=\"T_e016a_row4_col0\" class=\"data row4 col0\" >0.385960</td>\n",
       "      <td id=\"T_e016a_row4_col1\" class=\"data row4 col1\" >0.144534</td>\n",
       "      <td id=\"T_e016a_row4_col2\" class=\"data row4 col2\" >0.526770</td>\n",
       "      <td id=\"T_e016a_row4_col3\" class=\"data row4 col3\" >0.379605</td>\n",
       "      <td id=\"T_e016a_row4_col4\" class=\"data row4 col4\" >1.000000</td>\n",
       "      <td id=\"T_e016a_row4_col5\" class=\"data row4 col5\" >-0.519967</td>\n",
       "      <td id=\"T_e016a_row4_col6\" class=\"data row4 col6\" >0.565270</td>\n",
       "      <td id=\"T_e016a_row4_col7\" class=\"data row4 col7\" >0.042465</td>\n",
       "    </tr>\n",
       "    <tr>\n",
       "      <th id=\"T_e016a_level0_row5\" class=\"row_heading level0 row5\" >Leading_Current_Power_Factor</th>\n",
       "      <td id=\"T_e016a_row5_col0\" class=\"data row5 col0\" >0.353566</td>\n",
       "      <td id=\"T_e016a_row5_col1\" class=\"data row5 col1\" >0.407716</td>\n",
       "      <td id=\"T_e016a_row5_col2\" class=\"data row5 col2\" >-0.944039</td>\n",
       "      <td id=\"T_e016a_row5_col3\" class=\"data row5 col3\" >0.360019</td>\n",
       "      <td id=\"T_e016a_row5_col4\" class=\"data row5 col4\" >-0.519967</td>\n",
       "      <td id=\"T_e016a_row5_col5\" class=\"data row5 col5\" >1.000000</td>\n",
       "      <td id=\"T_e016a_row5_col6\" class=\"data row5 col6\" >-0.360563</td>\n",
       "      <td id=\"T_e016a_row5_col7\" class=\"data row5 col7\" >-0.257677</td>\n",
       "    </tr>\n",
       "    <tr>\n",
       "      <th id=\"T_e016a_level0_row6\" class=\"row_heading level0 row6\" >NSM</th>\n",
       "      <td id=\"T_e016a_row6_col0\" class=\"data row6 col0\" >0.234610</td>\n",
       "      <td id=\"T_e016a_row6_col1\" class=\"data row6 col1\" >0.082662</td>\n",
       "      <td id=\"T_e016a_row6_col2\" class=\"data row6 col2\" >0.371605</td>\n",
       "      <td id=\"T_e016a_row6_col3\" class=\"data row6 col3\" >0.231726</td>\n",
       "      <td id=\"T_e016a_row6_col4\" class=\"data row6 col4\" >0.565270</td>\n",
       "      <td id=\"T_e016a_row6_col5\" class=\"data row6 col5\" >-0.360563</td>\n",
       "      <td id=\"T_e016a_row6_col6\" class=\"data row6 col6\" >1.000000</td>\n",
       "      <td id=\"T_e016a_row6_col7\" class=\"data row6 col7\" >-0.000000</td>\n",
       "    </tr>\n",
       "    <tr>\n",
       "      <th id=\"T_e016a_level0_row7\" class=\"row_heading level0 row7\" >Day_of_week</th>\n",
       "      <td id=\"T_e016a_row7_col0\" class=\"data row7 col0\" >-0.240705</td>\n",
       "      <td id=\"T_e016a_row7_col1\" class=\"data row7 col1\" >-0.256227</td>\n",
       "      <td id=\"T_e016a_row7_col2\" class=\"data row7 col2\" >0.212922</td>\n",
       "      <td id=\"T_e016a_row7_col3\" class=\"data row7 col3\" >-0.235298</td>\n",
       "      <td id=\"T_e016a_row7_col4\" class=\"data row7 col4\" >0.042465</td>\n",
       "      <td id=\"T_e016a_row7_col5\" class=\"data row7 col5\" >-0.257677</td>\n",
       "      <td id=\"T_e016a_row7_col6\" class=\"data row7 col6\" >-0.000000</td>\n",
       "      <td id=\"T_e016a_row7_col7\" class=\"data row7 col7\" >1.000000</td>\n",
       "    </tr>\n",
       "  </tbody>\n",
       "</table>\n"
      ],
      "text/plain": [
       "<pandas.io.formats.style.Styler at 0x26ec74c4e10>"
      ]
     },
     "execution_count": 25,
     "metadata": {},
     "output_type": "execute_result"
    }
   ],
   "source": [
    "Correlation=pd.DataFrame(model.corr_,index=data_loading,columns=data_loading)\n",
    "Correlation.style.applymap(lambda x: 'background-color : yellow' if x >= 0.7 else '')"
   ]
  },
  {
   "cell_type": "markdown",
   "id": "3626cb24-6fa4-49ef-8fc1-165b1162e068",
   "metadata": {},
   "source": [
    "# Factor Loading Matrix"
   ]
  },
  {
   "cell_type": "code",
   "execution_count": 26,
   "id": "6d2c4a18-4886-4d55-8d61-57f5404b2335",
   "metadata": {},
   "outputs": [],
   "source": [
    "factor=[\"Factor1 (Z1)\",\"Factor2 (Z2)\"]"
   ]
  },
  {
   "cell_type": "code",
   "execution_count": 27,
   "id": "ec60c296-821c-4ff2-ad92-774a0c662540",
   "metadata": {},
   "outputs": [
    {
     "name": "stderr",
     "output_type": "stream",
     "text": [
      "C:\\Users\\User\\AppData\\Local\\Temp\\ipykernel_1628\\388647276.py:3: FutureWarning: Styler.applymap has been deprecated. Use Styler.map instead.\n",
      "  loading.style.applymap(lambda x: 'background-color : orange' if x > 0.5 else '')\n"
     ]
    },
    {
     "data": {
      "text/html": [
       "<style type=\"text/css\">\n",
       "#T_99834_row0_col0, #T_99834_row1_col0, #T_99834_row2_col1, #T_99834_row3_col0, #T_99834_row4_col1, #T_99834_row5_col1, #T_99834_row6_col1 {\n",
       "  background-color: orange;\n",
       "}\n",
       "</style>\n",
       "<table id=\"T_99834\">\n",
       "  <thead>\n",
       "    <tr>\n",
       "      <th class=\"blank level0\" >&nbsp;</th>\n",
       "      <th id=\"T_99834_level0_col0\" class=\"col_heading level0 col0\" >Factor1 (Z1)</th>\n",
       "      <th id=\"T_99834_level0_col1\" class=\"col_heading level0 col1\" >Factor2 (Z2)</th>\n",
       "    </tr>\n",
       "  </thead>\n",
       "  <tbody>\n",
       "    <tr>\n",
       "      <th id=\"T_99834_level0_row0\" class=\"row_heading level0 row0\" >Usage_kWh</th>\n",
       "      <td id=\"T_99834_row0_col0\" class=\"data row0 col0\" >0.973122</td>\n",
       "      <td id=\"T_99834_row0_col1\" class=\"data row0 col1\" >0.141604</td>\n",
       "    </tr>\n",
       "    <tr>\n",
       "      <th id=\"T_99834_level0_row1\" class=\"row_heading level0 row1\" >Lagging_Current_Reactive.Power_kVarh</th>\n",
       "      <td id=\"T_99834_row1_col0\" class=\"data row1 col0\" >0.923825</td>\n",
       "      <td id=\"T_99834_row1_col1\" class=\"data row1 col1\" >0.037226</td>\n",
       "    </tr>\n",
       "    <tr>\n",
       "      <th id=\"T_99834_level0_row2\" class=\"row_heading level0 row2\" >Leading_Current_Reactive_Power_kVarh</th>\n",
       "      <td id=\"T_99834_row2_col0\" class=\"data row2 col0\" >0.470720</td>\n",
       "      <td id=\"T_99834_row2_col1\" class=\"data row2 col1\" >0.812713</td>\n",
       "    </tr>\n",
       "    <tr>\n",
       "      <th id=\"T_99834_level0_row3\" class=\"row_heading level0 row3\" >CO2(tCO2)</th>\n",
       "      <td id=\"T_99834_row3_col0\" class=\"data row3 col0\" >0.970958</td>\n",
       "      <td id=\"T_99834_row3_col1\" class=\"data row3 col1\" >0.134625</td>\n",
       "    </tr>\n",
       "    <tr>\n",
       "      <th id=\"T_99834_level0_row4\" class=\"row_heading level0 row4\" >Lagging_Current_Power_Factor</th>\n",
       "      <td id=\"T_99834_row4_col0\" class=\"data row4 col0\" >0.272214</td>\n",
       "      <td id=\"T_99834_row4_col1\" class=\"data row4 col1\" >0.864887</td>\n",
       "    </tr>\n",
       "    <tr>\n",
       "      <th id=\"T_99834_level0_row5\" class=\"row_heading level0 row5\" >Leading_Current_Power_Factor</th>\n",
       "      <td id=\"T_99834_row5_col0\" class=\"data row5 col0\" >0.493827</td>\n",
       "      <td id=\"T_99834_row5_col1\" class=\"data row5 col1\" >0.805343</td>\n",
       "    </tr>\n",
       "    <tr>\n",
       "      <th id=\"T_99834_level0_row6\" class=\"row_heading level0 row6\" >NSM</th>\n",
       "      <td id=\"T_99834_row6_col0\" class=\"data row6 col0\" >0.201447</td>\n",
       "      <td id=\"T_99834_row6_col1\" class=\"data row6 col1\" >0.721672</td>\n",
       "    </tr>\n",
       "    <tr>\n",
       "      <th id=\"T_99834_level0_row7\" class=\"row_heading level0 row7\" >Day_of_week</th>\n",
       "      <td id=\"T_99834_row7_col0\" class=\"data row7 col0\" >0.357708</td>\n",
       "      <td id=\"T_99834_row7_col1\" class=\"data row7 col1\" >0.170160</td>\n",
       "    </tr>\n",
       "  </tbody>\n",
       "</table>\n"
      ],
      "text/plain": [
       "<pandas.io.formats.style.Styler at 0x26ec74c4cd0>"
      ]
     },
     "execution_count": 27,
     "metadata": {},
     "output_type": "execute_result"
    }
   ],
   "source": [
    "loading=pd.DataFrame(model.loadings_,columns=factor,index=data_loading)\n",
    "loading=loading.abs()\n",
    "loading.style.applymap(lambda x: 'background-color : orange' if x > 0.5 else '')"
   ]
  },
  {
   "cell_type": "markdown",
   "id": "2d4a022a-1b65-45a1-b9b8-f21e7f55f620",
   "metadata": {},
   "source": [
    "* Usage_kWh, Lagging_Current_Reactive.Power_kVarh, CO2(tCO2) have high correlation with Factor 1\n",
    "* Leading_Current_Reactive_Power_kVarh, Lagging_Current_Power_Factor, Leading_Current_Power_Factor, NSM have high correlation with Factor 2"
   ]
  },
  {
   "cell_type": "markdown",
   "id": "402482ba-d2a0-4c6d-b43c-e30ab2d65468",
   "metadata": {},
   "source": [
    "# Eigen Values"
   ]
  },
  {
   "cell_type": "code",
   "execution_count": 28,
   "id": "a10f247f-2383-48d1-bc8f-3202ba2d67b7",
   "metadata": {},
   "outputs": [],
   "source": [
    "header=[\"Eigen_Values\",\"Percentage of Variance\",\"Cumulative Percentage of Variance Explained\"]"
   ]
  },
  {
   "cell_type": "code",
   "execution_count": 29,
   "id": "42fdb8e7-ca00-4909-8ebc-8f8bb1fd3196",
   "metadata": {},
   "outputs": [
    {
     "data": {
      "text/html": [
       "<div>\n",
       "<style scoped>\n",
       "    .dataframe tbody tr th:only-of-type {\n",
       "        vertical-align: middle;\n",
       "    }\n",
       "\n",
       "    .dataframe tbody tr th {\n",
       "        vertical-align: top;\n",
       "    }\n",
       "\n",
       "    .dataframe thead th {\n",
       "        text-align: right;\n",
       "    }\n",
       "</style>\n",
       "<table border=\"1\" class=\"dataframe\">\n",
       "  <thead>\n",
       "    <tr style=\"text-align: right;\">\n",
       "      <th></th>\n",
       "      <th>Factor1 (Z1)</th>\n",
       "      <th>Factor2 (Z2)</th>\n",
       "    </tr>\n",
       "  </thead>\n",
       "  <tbody>\n",
       "    <tr>\n",
       "      <th>Eigen_Values</th>\n",
       "      <td>3.451257</td>\n",
       "      <td>2.646434</td>\n",
       "    </tr>\n",
       "    <tr>\n",
       "      <th>Percentage of Variance</th>\n",
       "      <td>0.431407</td>\n",
       "      <td>0.330804</td>\n",
       "    </tr>\n",
       "    <tr>\n",
       "      <th>Cumulative Percentage of Variance Explained</th>\n",
       "      <td>0.431407</td>\n",
       "      <td>0.762211</td>\n",
       "    </tr>\n",
       "  </tbody>\n",
       "</table>\n",
       "</div>"
      ],
      "text/plain": [
       "                                             Factor1 (Z1)  Factor2 (Z2)\n",
       "Eigen_Values                                     3.451257      2.646434\n",
       "Percentage of Variance                           0.431407      0.330804\n",
       "Cumulative Percentage of Variance Explained      0.431407      0.762211"
      ]
     },
     "execution_count": 29,
     "metadata": {},
     "output_type": "execute_result"
    }
   ],
   "source": [
    "variance_Explained=pd.DataFrame(model.get_factor_variance(),columns=factor,index=header)\n",
    "variance_Explained"
   ]
  },
  {
   "cell_type": "markdown",
   "id": "eb4554cb-af87-48b9-b6b2-70e01d036faa",
   "metadata": {},
   "source": [
    "* 76.22% of variance is explained by 3 factor"
   ]
  },
  {
   "cell_type": "markdown",
   "id": "f9bbc29c-a6cc-4f8b-87b4-8b4f2b858571",
   "metadata": {},
   "source": [
    "# Communalities & Uniqueness"
   ]
  },
  {
   "cell_type": "code",
   "execution_count": 30,
   "id": "5f3a32bb-3181-440a-98d2-d6538af48bb8",
   "metadata": {},
   "outputs": [
    {
     "data": {
      "text/html": [
       "<div>\n",
       "<style scoped>\n",
       "    .dataframe tbody tr th:only-of-type {\n",
       "        vertical-align: middle;\n",
       "    }\n",
       "\n",
       "    .dataframe tbody tr th {\n",
       "        vertical-align: top;\n",
       "    }\n",
       "\n",
       "    .dataframe thead th {\n",
       "        text-align: right;\n",
       "    }\n",
       "</style>\n",
       "<table border=\"1\" class=\"dataframe\">\n",
       "  <thead>\n",
       "    <tr style=\"text-align: right;\">\n",
       "      <th></th>\n",
       "      <th>Communalities</th>\n",
       "      <th>Uniqueness</th>\n",
       "    </tr>\n",
       "  </thead>\n",
       "  <tbody>\n",
       "    <tr>\n",
       "      <th>Usage_kWh</th>\n",
       "      <td>0.97</td>\n",
       "      <td>0.03</td>\n",
       "    </tr>\n",
       "    <tr>\n",
       "      <th>Lagging_Current_Reactive.Power_kVarh</th>\n",
       "      <td>0.85</td>\n",
       "      <td>0.15</td>\n",
       "    </tr>\n",
       "    <tr>\n",
       "      <th>Leading_Current_Reactive_Power_kVarh</th>\n",
       "      <td>0.88</td>\n",
       "      <td>0.12</td>\n",
       "    </tr>\n",
       "    <tr>\n",
       "      <th>CO2(tCO2)</th>\n",
       "      <td>0.96</td>\n",
       "      <td>0.04</td>\n",
       "    </tr>\n",
       "    <tr>\n",
       "      <th>Lagging_Current_Power_Factor</th>\n",
       "      <td>0.82</td>\n",
       "      <td>0.18</td>\n",
       "    </tr>\n",
       "    <tr>\n",
       "      <th>Leading_Current_Power_Factor</th>\n",
       "      <td>0.89</td>\n",
       "      <td>0.11</td>\n",
       "    </tr>\n",
       "    <tr>\n",
       "      <th>NSM</th>\n",
       "      <td>0.56</td>\n",
       "      <td>0.44</td>\n",
       "    </tr>\n",
       "    <tr>\n",
       "      <th>Day_of_week</th>\n",
       "      <td>0.16</td>\n",
       "      <td>0.84</td>\n",
       "    </tr>\n",
       "  </tbody>\n",
       "</table>\n",
       "</div>"
      ],
      "text/plain": [
       "                                      Communalities  Uniqueness\n",
       "Usage_kWh                                      0.97        0.03\n",
       "Lagging_Current_Reactive.Power_kVarh           0.85        0.15\n",
       "Leading_Current_Reactive_Power_kVarh           0.88        0.12\n",
       "CO2(tCO2)                                      0.96        0.04\n",
       "Lagging_Current_Power_Factor                   0.82        0.18\n",
       "Leading_Current_Power_Factor                   0.89        0.11\n",
       "NSM                                            0.56        0.44\n",
       "Day_of_week                                    0.16        0.84"
      ]
     },
     "execution_count": 30,
     "metadata": {},
     "output_type": "execute_result"
    }
   ],
   "source": [
    "comm=pd.DataFrame(model.get_communalities(),columns=[\"Communalities\"],index=data_loading)\n",
    "comm['Uniqueness']=model.get_uniquenesses()\n",
    "round(comm,2)"
   ]
  },
  {
   "cell_type": "markdown",
   "id": "b233596b-9e45-4807-acc6-62b906068d51",
   "metadata": {},
   "source": [
    "# Final Transformation\n",
    "* Data dimesiona; reduction from 8 variable to 3 factor"
   ]
  },
  {
   "cell_type": "code",
   "execution_count": 31,
   "id": "a82d40f0-735f-4bea-a7da-42b1a9ee503b",
   "metadata": {},
   "outputs": [
    {
     "data": {
      "text/html": [
       "<div>\n",
       "<style scoped>\n",
       "    .dataframe tbody tr th:only-of-type {\n",
       "        vertical-align: middle;\n",
       "    }\n",
       "\n",
       "    .dataframe tbody tr th {\n",
       "        vertical-align: top;\n",
       "    }\n",
       "\n",
       "    .dataframe thead th {\n",
       "        text-align: right;\n",
       "    }\n",
       "</style>\n",
       "<table border=\"1\" class=\"dataframe\">\n",
       "  <thead>\n",
       "    <tr style=\"text-align: right;\">\n",
       "      <th></th>\n",
       "      <th>Usage_kWh</th>\n",
       "      <th>Lagging_Current_Reactive.Power_kVarh</th>\n",
       "      <th>Leading_Current_Reactive_Power_kVarh</th>\n",
       "      <th>CO2(tCO2)</th>\n",
       "      <th>Lagging_Current_Power_Factor</th>\n",
       "      <th>Leading_Current_Power_Factor</th>\n",
       "      <th>NSM</th>\n",
       "      <th>Day_of_week</th>\n",
       "    </tr>\n",
       "  </thead>\n",
       "  <tbody>\n",
       "    <tr>\n",
       "      <th>0</th>\n",
       "      <td>3.17</td>\n",
       "      <td>2.95</td>\n",
       "      <td>0.0</td>\n",
       "      <td>0.0</td>\n",
       "      <td>73.21</td>\n",
       "      <td>100.0</td>\n",
       "      <td>900</td>\n",
       "      <td>1</td>\n",
       "    </tr>\n",
       "    <tr>\n",
       "      <th>1</th>\n",
       "      <td>4.00</td>\n",
       "      <td>4.46</td>\n",
       "      <td>0.0</td>\n",
       "      <td>0.0</td>\n",
       "      <td>66.77</td>\n",
       "      <td>100.0</td>\n",
       "      <td>1800</td>\n",
       "      <td>1</td>\n",
       "    </tr>\n",
       "    <tr>\n",
       "      <th>2</th>\n",
       "      <td>3.24</td>\n",
       "      <td>3.28</td>\n",
       "      <td>0.0</td>\n",
       "      <td>0.0</td>\n",
       "      <td>70.28</td>\n",
       "      <td>100.0</td>\n",
       "      <td>2700</td>\n",
       "      <td>1</td>\n",
       "    </tr>\n",
       "    <tr>\n",
       "      <th>3</th>\n",
       "      <td>3.31</td>\n",
       "      <td>3.56</td>\n",
       "      <td>0.0</td>\n",
       "      <td>0.0</td>\n",
       "      <td>68.09</td>\n",
       "      <td>100.0</td>\n",
       "      <td>3600</td>\n",
       "      <td>1</td>\n",
       "    </tr>\n",
       "    <tr>\n",
       "      <th>4</th>\n",
       "      <td>3.82</td>\n",
       "      <td>4.50</td>\n",
       "      <td>0.0</td>\n",
       "      <td>0.0</td>\n",
       "      <td>64.72</td>\n",
       "      <td>100.0</td>\n",
       "      <td>4500</td>\n",
       "      <td>1</td>\n",
       "    </tr>\n",
       "  </tbody>\n",
       "</table>\n",
       "</div>"
      ],
      "text/plain": [
       "   Usage_kWh  Lagging_Current_Reactive.Power_kVarh  \\\n",
       "0       3.17                                  2.95   \n",
       "1       4.00                                  4.46   \n",
       "2       3.24                                  3.28   \n",
       "3       3.31                                  3.56   \n",
       "4       3.82                                  4.50   \n",
       "\n",
       "   Leading_Current_Reactive_Power_kVarh  CO2(tCO2)  \\\n",
       "0                                   0.0        0.0   \n",
       "1                                   0.0        0.0   \n",
       "2                                   0.0        0.0   \n",
       "3                                   0.0        0.0   \n",
       "4                                   0.0        0.0   \n",
       "\n",
       "   Lagging_Current_Power_Factor  Leading_Current_Power_Factor   NSM  \\\n",
       "0                         73.21                         100.0   900   \n",
       "1                         66.77                         100.0  1800   \n",
       "2                         70.28                         100.0  2700   \n",
       "3                         68.09                         100.0  3600   \n",
       "4                         64.72                         100.0  4500   \n",
       "\n",
       "   Day_of_week  \n",
       "0            1  \n",
       "1            1  \n",
       "2            1  \n",
       "3            1  \n",
       "4            1  "
      ]
     },
     "execution_count": 31,
     "metadata": {},
     "output_type": "execute_result"
    }
   ],
   "source": [
    "df.head()"
   ]
  },
  {
   "cell_type": "code",
   "execution_count": 33,
   "id": "6a9cf7d5-890b-4250-add3-847b50eb3b02",
   "metadata": {},
   "outputs": [
    {
     "data": {
      "text/html": [
       "<div>\n",
       "<style scoped>\n",
       "    .dataframe tbody tr th:only-of-type {\n",
       "        vertical-align: middle;\n",
       "    }\n",
       "\n",
       "    .dataframe tbody tr th {\n",
       "        vertical-align: top;\n",
       "    }\n",
       "\n",
       "    .dataframe thead th {\n",
       "        text-align: right;\n",
       "    }\n",
       "</style>\n",
       "<table border=\"1\" class=\"dataframe\">\n",
       "  <thead>\n",
       "    <tr style=\"text-align: right;\">\n",
       "      <th></th>\n",
       "      <th>Data Factor 1</th>\n",
       "      <th>Data Factor 2</th>\n",
       "    </tr>\n",
       "  </thead>\n",
       "  <tbody>\n",
       "    <tr>\n",
       "      <th>0</th>\n",
       "      <td>-0.472152</td>\n",
       "      <td>-1.103879</td>\n",
       "    </tr>\n",
       "    <tr>\n",
       "      <th>1</th>\n",
       "      <td>-0.471746</td>\n",
       "      <td>-1.205212</td>\n",
       "    </tr>\n",
       "    <tr>\n",
       "      <th>2</th>\n",
       "      <td>-0.476207</td>\n",
       "      <td>-1.135325</td>\n",
       "    </tr>\n",
       "    <tr>\n",
       "      <th>3</th>\n",
       "      <td>-0.479906</td>\n",
       "      <td>-1.163757</td>\n",
       "    </tr>\n",
       "    <tr>\n",
       "      <th>4</th>\n",
       "      <td>-0.475261</td>\n",
       "      <td>-1.211722</td>\n",
       "    </tr>\n",
       "    <tr>\n",
       "      <th>...</th>\n",
       "      <td>...</td>\n",
       "      <td>...</td>\n",
       "    </tr>\n",
       "    <tr>\n",
       "      <th>35035</th>\n",
       "      <td>-0.242337</td>\n",
       "      <td>-0.381198</td>\n",
       "    </tr>\n",
       "    <tr>\n",
       "      <th>35036</th>\n",
       "      <td>-0.213045</td>\n",
       "      <td>-0.219348</td>\n",
       "    </tr>\n",
       "    <tr>\n",
       "      <th>35037</th>\n",
       "      <td>-0.188994</td>\n",
       "      <td>-0.101721</td>\n",
       "    </tr>\n",
       "    <tr>\n",
       "      <th>35038</th>\n",
       "      <td>-0.182884</td>\n",
       "      <td>-0.070409</td>\n",
       "    </tr>\n",
       "    <tr>\n",
       "      <th>35039</th>\n",
       "      <td>-0.449284</td>\n",
       "      <td>-1.038668</td>\n",
       "    </tr>\n",
       "  </tbody>\n",
       "</table>\n",
       "<p>35040 rows × 2 columns</p>\n",
       "</div>"
      ],
      "text/plain": [
       "       Data Factor 1  Data Factor 2\n",
       "0          -0.472152      -1.103879\n",
       "1          -0.471746      -1.205212\n",
       "2          -0.476207      -1.135325\n",
       "3          -0.479906      -1.163757\n",
       "4          -0.475261      -1.211722\n",
       "...              ...            ...\n",
       "35035      -0.242337      -0.381198\n",
       "35036      -0.213045      -0.219348\n",
       "35037      -0.188994      -0.101721\n",
       "35038      -0.182884      -0.070409\n",
       "35039      -0.449284      -1.038668\n",
       "\n",
       "[35040 rows x 2 columns]"
      ]
     },
     "execution_count": 33,
     "metadata": {},
     "output_type": "execute_result"
    }
   ],
   "source": [
    "output=pd.DataFrame(model.fit_transform(df),columns=['Data Factor 1','Data Factor 2'])\n",
    "output"
   ]
  },
  {
   "cell_type": "code",
   "execution_count": 34,
   "id": "9c357d17-e760-424a-9545-5136dd0b407b",
   "metadata": {},
   "outputs": [
    {
     "name": "stdout",
     "output_type": "stream",
     "text": [
      "Original Shape:  (35040, 8)\n",
      "Transformed Shape:  (35040, 2)\n"
     ]
    }
   ],
   "source": [
    "print(\"Original Shape: \",df.shape)\n",
    "print(\"Transformed Shape: \",output.shape)"
   ]
  },
  {
   "cell_type": "markdown",
   "id": "94844709-f170-47de-bf7e-ccd3622e55c8",
   "metadata": {},
   "source": [
    "# To check the factor component is uncorrelated/independent"
   ]
  },
  {
   "cell_type": "code",
   "execution_count": 35,
   "id": "d0c8e645-b435-404f-8d96-94a0c67f4b5a",
   "metadata": {},
   "outputs": [
    {
     "data": {
      "text/html": [
       "<div>\n",
       "<style scoped>\n",
       "    .dataframe tbody tr th:only-of-type {\n",
       "        vertical-align: middle;\n",
       "    }\n",
       "\n",
       "    .dataframe tbody tr th {\n",
       "        vertical-align: top;\n",
       "    }\n",
       "\n",
       "    .dataframe thead th {\n",
       "        text-align: right;\n",
       "    }\n",
       "</style>\n",
       "<table border=\"1\" class=\"dataframe\">\n",
       "  <thead>\n",
       "    <tr style=\"text-align: right;\">\n",
       "      <th></th>\n",
       "      <th>Data Factor 1</th>\n",
       "      <th>Data Factor 2</th>\n",
       "    </tr>\n",
       "  </thead>\n",
       "  <tbody>\n",
       "    <tr>\n",
       "      <th>Data Factor 1</th>\n",
       "      <td>1.0</td>\n",
       "      <td>0.0</td>\n",
       "    </tr>\n",
       "    <tr>\n",
       "      <th>Data Factor 2</th>\n",
       "      <td>0.0</td>\n",
       "      <td>1.0</td>\n",
       "    </tr>\n",
       "  </tbody>\n",
       "</table>\n",
       "</div>"
      ],
      "text/plain": [
       "               Data Factor 1  Data Factor 2\n",
       "Data Factor 1            1.0            0.0\n",
       "Data Factor 2            0.0            1.0"
      ]
     },
     "execution_count": 35,
     "metadata": {},
     "output_type": "execute_result"
    }
   ],
   "source": [
    "round(output.corr(),5)"
   ]
  },
  {
   "cell_type": "markdown",
   "id": "e22b8e33-ce1e-4cd8-aa98-aa0777701a9e",
   "metadata": {},
   "source": [
    "* Correlation between data Factor 1 and Factor 2 is 0%, which indicates they are independent"
   ]
  },
  {
   "cell_type": "markdown",
   "id": "463dfc0f-4198-4a02-b097-ccaaf0267efe",
   "metadata": {},
   "source": [
    "* Factor 1 = Energy Use and emissions\n",
    "* Factor 2 = Power efficiency and time pattern"
   ]
  }
 ],
 "metadata": {
  "kernelspec": {
   "display_name": "Python 3 (ipykernel)",
   "language": "python",
   "name": "python3"
  },
  "language_info": {
   "codemirror_mode": {
    "name": "ipython",
    "version": 3
   },
   "file_extension": ".py",
   "mimetype": "text/x-python",
   "name": "python",
   "nbconvert_exporter": "python",
   "pygments_lexer": "ipython3",
   "version": "3.13.0"
  }
 },
 "nbformat": 4,
 "nbformat_minor": 5
}
